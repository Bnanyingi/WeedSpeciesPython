{
  "nbformat": 4,
  "nbformat_minor": 0,
  "metadata": {
    "colab": {
      "provenance": [],
      "authorship_tag": "ABX9TyNJqQFTNZ1RyUQHI48LGo9V",
      "include_colab_link": true
    },
    "kernelspec": {
      "name": "python3",
      "display_name": "Python 3"
    },
    "language_info": {
      "name": "python"
    }
  },
  "cells": [
    {
      "cell_type": "markdown",
      "metadata": {
        "id": "view-in-github",
        "colab_type": "text"
      },
      "source": [
        "<a href=\"https://colab.research.google.com/github/Bnanyingi/WeedSpeciesPython/blob/master/linkedlistpractice.ipynb\" target=\"_parent\"><img src=\"https://colab.research.google.com/assets/colab-badge.svg\" alt=\"Open In Colab\"/></a>"
      ]
    },
    {
      "cell_type": "code",
      "execution_count": 1,
      "metadata": {
        "id": "fcwarqiGI_d_"
      },
      "outputs": [],
      "source": [
        "my_list = list(range(0,10))"
      ]
    },
    {
      "cell_type": "code",
      "source": [
        "my_list.append(10)"
      ],
      "metadata": {
        "id": "hwbZZMYqJJ1x"
      },
      "execution_count": 2,
      "outputs": []
    },
    {
      "cell_type": "code",
      "source": [
        "my_list"
      ],
      "metadata": {
        "colab": {
          "base_uri": "https://localhost:8080/"
        },
        "id": "GOc1-WCZJTu3",
        "outputId": "1c14fb33-4612-45ce-c30f-9a6cbed96906"
      },
      "execution_count": 3,
      "outputs": [
        {
          "output_type": "execute_result",
          "data": {
            "text/plain": [
              "[0, 1, 2, 3, 4, 5, 6, 7, 8, 9, 10]"
            ]
          },
          "metadata": {},
          "execution_count": 3
        }
      ]
    },
    {
      "cell_type": "code",
      "source": [
        "my_list.insert(2,10)"
      ],
      "metadata": {
        "id": "XPBjbmYUJb2j"
      },
      "execution_count": 4,
      "outputs": []
    },
    {
      "cell_type": "code",
      "source": [
        "my_list"
      ],
      "metadata": {
        "colab": {
          "base_uri": "https://localhost:8080/"
        },
        "id": "ZZGjUfW_KBJF",
        "outputId": "677724b9-e2b5-4ef9-cce1-52b6eb7b90d2"
      },
      "execution_count": 5,
      "outputs": [
        {
          "output_type": "execute_result",
          "data": {
            "text/plain": [
              "[0, 1, 10, 2, 3, 4, 5, 6, 7, 8, 9, 10]"
            ]
          },
          "metadata": {},
          "execution_count": 5
        }
      ]
    },
    {
      "cell_type": "code",
      "source": [
        "my_list.pop()"
      ],
      "metadata": {
        "colab": {
          "base_uri": "https://localhost:8080/"
        },
        "id": "V3PdR9F0KDA4",
        "outputId": "59ccc714-03bf-483a-e477-59e8f56e7fd7"
      },
      "execution_count": 6,
      "outputs": [
        {
          "output_type": "execute_result",
          "data": {
            "text/plain": [
              "10"
            ]
          },
          "metadata": {},
          "execution_count": 6
        }
      ]
    },
    {
      "cell_type": "code",
      "source": [
        "my_list"
      ],
      "metadata": {
        "colab": {
          "base_uri": "https://localhost:8080/"
        },
        "id": "U-3knpxPKRJA",
        "outputId": "9aa18ce2-70e7-481b-849f-73d9b75d29f7"
      },
      "execution_count": 7,
      "outputs": [
        {
          "output_type": "execute_result",
          "data": {
            "text/plain": [
              "[0, 1, 10, 2, 3, 4, 5, 6, 7, 8, 9]"
            ]
          },
          "metadata": {},
          "execution_count": 7
        }
      ]
    },
    {
      "cell_type": "code",
      "source": [
        "from collections import deque"
      ],
      "metadata": {
        "id": "CkaKk6VSKTTo"
      },
      "execution_count": 8,
      "outputs": []
    },
    {
      "cell_type": "code",
      "source": [
        "linked_list = deque()"
      ],
      "metadata": {
        "id": "3QaPNTkkKu77"
      },
      "execution_count": 9,
      "outputs": []
    },
    {
      "cell_type": "code",
      "source": [
        "linked_list"
      ],
      "metadata": {
        "colab": {
          "base_uri": "https://localhost:8080/"
        },
        "id": "RW6zS7rdNieJ",
        "outputId": "f08cfc6c-6690-4e59-d35d-65631839f948"
      },
      "execution_count": 10,
      "outputs": [
        {
          "output_type": "execute_result",
          "data": {
            "text/plain": [
              "deque([])"
            ]
          },
          "metadata": {},
          "execution_count": 10
        }
      ]
    },
    {
      "cell_type": "code",
      "source": [
        "linked_list.append(0)"
      ],
      "metadata": {
        "id": "ddTe0y_NNl7A"
      },
      "execution_count": 11,
      "outputs": []
    },
    {
      "cell_type": "code",
      "source": [
        "linked_list"
      ],
      "metadata": {
        "colab": {
          "base_uri": "https://localhost:8080/"
        },
        "id": "WQTiAxZaNww0",
        "outputId": "3e776ff4-1aa7-4979-9bdf-11addabb4a37"
      },
      "execution_count": 12,
      "outputs": [
        {
          "output_type": "execute_result",
          "data": {
            "text/plain": [
              "deque([0])"
            ]
          },
          "metadata": {},
          "execution_count": 12
        }
      ]
    },
    {
      "cell_type": "code",
      "source": [
        "linked_list.appendleft(1)"
      ],
      "metadata": {
        "id": "oLd1lP3ONyzU"
      },
      "execution_count": 13,
      "outputs": []
    },
    {
      "cell_type": "code",
      "source": [
        "linked_list"
      ],
      "metadata": {
        "colab": {
          "base_uri": "https://localhost:8080/"
        },
        "id": "V0uOLVW_OE0r",
        "outputId": "e68ea5d6-a2d6-49bd-e6ad-3af470f1bfeb"
      },
      "execution_count": 14,
      "outputs": [
        {
          "output_type": "execute_result",
          "data": {
            "text/plain": [
              "deque([1, 0])"
            ]
          },
          "metadata": {},
          "execution_count": 14
        }
      ]
    },
    {
      "cell_type": "code",
      "source": [
        "linked_list.append(2)"
      ],
      "metadata": {
        "id": "EaVtSVc6OaiR"
      },
      "execution_count": 17,
      "outputs": []
    },
    {
      "cell_type": "code",
      "source": [
        "linked_list\n"
      ],
      "metadata": {
        "colab": {
          "base_uri": "https://localhost:8080/"
        },
        "id": "-yOw7FX2OfbE",
        "outputId": "fe98dff8-98c4-4d89-9b56-9b2f383a143a"
      },
      "execution_count": 18,
      "outputs": [
        {
          "output_type": "execute_result",
          "data": {
            "text/plain": [
              "deque([1, 0, 2])"
            ]
          },
          "metadata": {},
          "execution_count": 18
        }
      ]
    },
    {
      "cell_type": "code",
      "source": [
        "linked_list.popleft()"
      ],
      "metadata": {
        "colab": {
          "base_uri": "https://localhost:8080/"
        },
        "id": "-hctN0StOhqC",
        "outputId": "3ea5c25c-3471-4209-fe21-39baa48f1b2e"
      },
      "execution_count": 19,
      "outputs": [
        {
          "output_type": "execute_result",
          "data": {
            "text/plain": [
              "1"
            ]
          },
          "metadata": {},
          "execution_count": 19
        }
      ]
    },
    {
      "cell_type": "code",
      "source": [
        "linked_list"
      ],
      "metadata": {
        "colab": {
          "base_uri": "https://localhost:8080/"
        },
        "id": "PeHbtgj2O5ri",
        "outputId": "66a30b5c-eeca-41da-c0ab-1f785ad9a1da"
      },
      "execution_count": 20,
      "outputs": [
        {
          "output_type": "execute_result",
          "data": {
            "text/plain": [
              "deque([0, 2])"
            ]
          },
          "metadata": {},
          "execution_count": 20
        }
      ]
    },
    {
      "cell_type": "code",
      "source": [
        "from collections import deque"
      ],
      "metadata": {
        "id": "a1ORDbmCCVfG"
      },
      "execution_count": 2,
      "outputs": []
    },
    {
      "cell_type": "code",
      "source": [
        "queue = deque()"
      ],
      "metadata": {
        "id": "LhBnn_lUCmi5"
      },
      "execution_count": 3,
      "outputs": []
    },
    {
      "cell_type": "code",
      "source": [
        "for i in range(0,5):\n",
        "    queue.append(i)\n",
        "    print(queue)"
      ],
      "metadata": {
        "colab": {
          "base_uri": "https://localhost:8080/"
        },
        "id": "cwaWcZVUCpuQ",
        "outputId": "e1cc4570-803f-4504-9ac7-fe13993f1570"
      },
      "execution_count": 4,
      "outputs": [
        {
          "output_type": "stream",
          "name": "stdout",
          "text": [
            "deque([0])\n",
            "deque([0, 1])\n",
            "deque([0, 1, 2])\n",
            "deque([0, 1, 2, 3])\n",
            "deque([0, 1, 2, 3, 4])\n"
          ]
        }
      ]
    },
    {
      "cell_type": "code",
      "source": [
        "for i in range(len(queue)):\n",
        "    queue.popleft()\n",
        "    print(queue)"
      ],
      "metadata": {
        "colab": {
          "base_uri": "https://localhost:8080/"
        },
        "id": "XlL2SLUVDZlk",
        "outputId": "611cf6b1-f6dc-4a70-d1f7-e3e010264283"
      },
      "execution_count": 6,
      "outputs": [
        {
          "output_type": "stream",
          "name": "stdout",
          "text": [
            "deque([1, 2, 3, 4])\n",
            "deque([2, 3, 4])\n",
            "deque([3, 4])\n",
            "deque([4])\n",
            "deque([])\n"
          ]
        }
      ]
    },
    {
      "cell_type": "code",
      "source": [
        "stack = deque()"
      ],
      "metadata": {
        "id": "ddJu7xnsDjBI"
      },
      "execution_count": 7,
      "outputs": []
    },
    {
      "cell_type": "code",
      "source": [
        "for i in range(0,5):\n",
        "    stack.appendleft(i)\n",
        "    print(stack)"
      ],
      "metadata": {
        "colab": {
          "base_uri": "https://localhost:8080/"
        },
        "id": "4MousPdgEEre",
        "outputId": "14402002-eef7-4e90-d198-a7128b874a60"
      },
      "execution_count": 9,
      "outputs": [
        {
          "output_type": "stream",
          "name": "stdout",
          "text": [
            "deque([0])\n",
            "deque([1, 0])\n",
            "deque([2, 1, 0])\n",
            "deque([3, 2, 1, 0])\n",
            "deque([4, 3, 2, 1, 0])\n"
          ]
        }
      ]
    },
    {
      "cell_type": "code",
      "source": [
        "for i in range(len(stack)):\n",
        "    stack.popleft()\n",
        "    print(stack)"
      ],
      "metadata": {
        "colab": {
          "base_uri": "https://localhost:8080/"
        },
        "id": "SSzO-e5HEhNT",
        "outputId": "076befbc-ca43-4a84-bf0c-983fe0c6a5a3"
      },
      "execution_count": 11,
      "outputs": [
        {
          "output_type": "stream",
          "name": "stdout",
          "text": [
            "deque([3, 2, 1, 0])\n",
            "deque([2, 1, 0])\n",
            "deque([1, 0])\n",
            "deque([0])\n",
            "deque([])\n"
          ]
        }
      ]
    },
    {
      "cell_type": "code",
      "source": [
        "class Node:\n",
        "    def __init__(self,data = None):\n",
        "        self.data = data\n",
        "        self.next = None\n",
        "\n",
        "class Linked:\n",
        "    def __init__(self):\n",
        "        self.head = None\n",
        "\n",
        "    def show(self):\n",
        "        node = self.head\n",
        "        while node is not None:\n",
        "            print(node.data)\n",
        "            node = node.next\n",
        "\n",
        "    def add(self, new):\n",
        "        new_node = Node(new)\n",
        "        new_node.next = self.head\n",
        "        self.head = new_node\n",
        "        "
      ],
      "metadata": {
        "id": "Qsg_lzr1EvvK"
      },
      "execution_count": 27,
      "outputs": []
    },
    {
      "cell_type": "code",
      "source": [
        "link = Linked()"
      ],
      "metadata": {
        "id": "dCgRo865GjJ6"
      },
      "execution_count": 15,
      "outputs": []
    },
    {
      "cell_type": "code",
      "source": [
        "elem = Node('Barbz')"
      ],
      "metadata": {
        "id": "YTJ7W1FSH7D0"
      },
      "execution_count": 16,
      "outputs": []
    },
    {
      "cell_type": "code",
      "source": [
        "link.head = elem"
      ],
      "metadata": {
        "id": "Zw5LCAVcIGn1"
      },
      "execution_count": 18,
      "outputs": []
    },
    {
      "cell_type": "code",
      "source": [
        "link.show()\n"
      ],
      "metadata": {
        "colab": {
          "base_uri": "https://localhost:8080/"
        },
        "id": "7am0nh4JJQL0",
        "outputId": "87a4e4f0-c77c-4f90-a8cf-dc13a94e00cc"
      },
      "execution_count": 19,
      "outputs": [
        {
          "output_type": "stream",
          "name": "stdout",
          "text": [
            "Barbz\n"
          ]
        }
      ]
    },
    {
      "cell_type": "code",
      "source": [
        "elem2 = Node('Loves Python')"
      ],
      "metadata": {
        "id": "3GqSkJ7eJT1G"
      },
      "execution_count": 20,
      "outputs": []
    },
    {
      "cell_type": "code",
      "source": [
        "link.head.next = elem2"
      ],
      "metadata": {
        "id": "HuTrEe01Jl8u"
      },
      "execution_count": 21,
      "outputs": []
    },
    {
      "cell_type": "code",
      "source": [
        "link.show()"
      ],
      "metadata": {
        "colab": {
          "base_uri": "https://localhost:8080/"
        },
        "id": "GPPhW7AKJtPJ",
        "outputId": "779cc35b-a707-4c5a-c38a-7f4663b6bad6"
      },
      "execution_count": 22,
      "outputs": [
        {
          "output_type": "stream",
          "name": "stdout",
          "text": [
            "Barbz\n",
            "Loves Python\n"
          ]
        }
      ]
    },
    {
      "cell_type": "code",
      "source": [
        "link = Linked()\n"
      ],
      "metadata": {
        "id": "LMTvwa43LQVP"
      },
      "execution_count": 26,
      "outputs": []
    },
    {
      "cell_type": "code",
      "source": [
        "link.add(\"hey\")"
      ],
      "metadata": {
        "id": "p5nPYbxcLtpa"
      },
      "execution_count": 28,
      "outputs": []
    },
    {
      "cell_type": "code",
      "source": [
        "link.show()"
      ],
      "metadata": {
        "colab": {
          "base_uri": "https://localhost:8080/"
        },
        "id": "vp4AK2GqL3hT",
        "outputId": "dfbe13d2-7871-46d6-9948-a4be24137a18"
      },
      "execution_count": 29,
      "outputs": [
        {
          "output_type": "stream",
          "name": "stdout",
          "text": [
            "hey\n"
          ]
        }
      ]
    },
    {
      "cell_type": "code",
      "source": [
        "link.add(\"you,how are you\")"
      ],
      "metadata": {
        "id": "phqCSBpWL9IF"
      },
      "execution_count": 30,
      "outputs": []
    },
    {
      "cell_type": "code",
      "source": [
        "link.show()"
      ],
      "metadata": {
        "colab": {
          "base_uri": "https://localhost:8080/"
        },
        "id": "AQiGL5p1MD7Z",
        "outputId": "30d45308-1f0d-4623-f96f-786ffedbabde"
      },
      "execution_count": 31,
      "outputs": [
        {
          "output_type": "stream",
          "name": "stdout",
          "text": [
            "you,how are you\n",
            "hey\n"
          ]
        }
      ]
    },
    {
      "cell_type": "code",
      "source": [],
      "metadata": {
        "id": "MixlhsDUMFvI"
      },
      "execution_count": null,
      "outputs": []
    }
  ]
}